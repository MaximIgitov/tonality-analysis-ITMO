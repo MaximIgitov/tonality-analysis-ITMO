{
  "nbformat": 4,
  "nbformat_minor": 0,
  "metadata": {
    "colab": {
      "provenance": []
    },
    "kernelspec": {
      "name": "python3",
      "display_name": "Python 3"
    },
    "language_info": {
      "name": "python"
    },
    "gpuClass": "standard"
  },
  "cells": [
    {
      "cell_type": "markdown",
      "source": [
        "Игитов Максим U3110\n"
      ],
      "metadata": {
        "id": "DrMlIXgCYyHW"
      }
    },
    {
      "cell_type": "code",
      "source": [
        "!pip install catboost"
      ],
      "metadata": {
        "colab": {
          "base_uri": "https://localhost:8080/"
        },
        "id": "NSTTX2sAQ6Uv",
        "outputId": "d42ab279-abd3-476e-ddc8-e661484c285f"
      },
      "execution_count": null,
      "outputs": [
        {
          "output_type": "stream",
          "name": "stdout",
          "text": [
            "Collecting catboost\n",
            "  Downloading catboost-1.2.1-cp310-cp310-manylinux2014_x86_64.whl (98.7 MB)\n",
            "\u001b[2K     \u001b[90m━━━━━━━━━━━━━━━━━━━━━━━━━━━━━━━━━━━━━━━━\u001b[0m \u001b[32m98.7/98.7 MB\u001b[0m \u001b[31m7.1 MB/s\u001b[0m eta \u001b[36m0:00:00\u001b[0m\n",
            "\u001b[?25hRequirement already satisfied: graphviz in /usr/local/lib/python3.10/dist-packages (from catboost) (0.20.1)\n",
            "Requirement already satisfied: matplotlib in /usr/local/lib/python3.10/dist-packages (from catboost) (3.7.1)\n",
            "Requirement already satisfied: numpy>=1.16.0 in /usr/local/lib/python3.10/dist-packages (from catboost) (1.23.5)\n",
            "Requirement already satisfied: pandas>=0.24 in /usr/local/lib/python3.10/dist-packages (from catboost) (1.5.3)\n",
            "Requirement already satisfied: scipy in /usr/local/lib/python3.10/dist-packages (from catboost) (1.10.1)\n",
            "Requirement already satisfied: plotly in /usr/local/lib/python3.10/dist-packages (from catboost) (5.15.0)\n",
            "Requirement already satisfied: six in /usr/local/lib/python3.10/dist-packages (from catboost) (1.16.0)\n",
            "Requirement already satisfied: python-dateutil>=2.8.1 in /usr/local/lib/python3.10/dist-packages (from pandas>=0.24->catboost) (2.8.2)\n",
            "Requirement already satisfied: pytz>=2020.1 in /usr/local/lib/python3.10/dist-packages (from pandas>=0.24->catboost) (2023.3)\n",
            "Requirement already satisfied: contourpy>=1.0.1 in /usr/local/lib/python3.10/dist-packages (from matplotlib->catboost) (1.1.0)\n",
            "Requirement already satisfied: cycler>=0.10 in /usr/local/lib/python3.10/dist-packages (from matplotlib->catboost) (0.11.0)\n",
            "Requirement already satisfied: fonttools>=4.22.0 in /usr/local/lib/python3.10/dist-packages (from matplotlib->catboost) (4.42.1)\n",
            "Requirement already satisfied: kiwisolver>=1.0.1 in /usr/local/lib/python3.10/dist-packages (from matplotlib->catboost) (1.4.4)\n",
            "Requirement already satisfied: packaging>=20.0 in /usr/local/lib/python3.10/dist-packages (from matplotlib->catboost) (23.1)\n",
            "Requirement already satisfied: pillow>=6.2.0 in /usr/local/lib/python3.10/dist-packages (from matplotlib->catboost) (9.4.0)\n",
            "Requirement already satisfied: pyparsing>=2.3.1 in /usr/local/lib/python3.10/dist-packages (from matplotlib->catboost) (3.1.1)\n",
            "Requirement already satisfied: tenacity>=6.2.0 in /usr/local/lib/python3.10/dist-packages (from plotly->catboost) (8.2.3)\n",
            "Installing collected packages: catboost\n",
            "Successfully installed catboost-1.2.1\n"
          ]
        }
      ]
    },
    {
      "cell_type": "code",
      "source": [
        "import catboost\n",
        "print(catboost.__version__)"
      ],
      "metadata": {
        "colab": {
          "base_uri": "https://localhost:8080/"
        },
        "id": "SgWxYJiKQ2TZ",
        "outputId": "66722701-bf0f-4a7a-f326-87b55992cbde"
      },
      "execution_count": null,
      "outputs": [
        {
          "output_type": "stream",
          "name": "stdout",
          "text": [
            "1.2.1\n"
          ]
        }
      ]
    },
    {
      "cell_type": "code",
      "source": [
        "# Импорт библиотек\n",
        "import pandas as pd\n",
        "import numpy as np"
      ],
      "metadata": {
        "id": "UtLUaOaCY5OY"
      },
      "execution_count": null,
      "outputs": []
    },
    {
      "cell_type": "code",
      "source": [
        "# Чтение файла(необходимо загрузить файл в сессионное хранилище)\n",
        "manual = pd.read_csv(r\"/Manual_transcription clear with label.csv\", sep=';')"
      ],
      "metadata": {
        "id": "H6O9RpTeY8C_"
      },
      "execution_count": null,
      "outputs": []
    },
    {
      "cell_type": "code",
      "source": [
        "# Удаление колонки \"Name_audio\"\n",
        "manual = manual.drop(columns='Name_audio')"
      ],
      "metadata": {
        "id": "pN9LSj8nY-d_"
      },
      "execution_count": null,
      "outputs": []
    },
    {
      "cell_type": "code",
      "source": [
        "# Переименование столбца \"label\"\n",
        "manual.rename(columns={'label': 'Emotion'}, inplace=True)"
      ],
      "metadata": {
        "id": "u_1PxtiaZBKo"
      },
      "execution_count": null,
      "outputs": []
    },
    {
      "cell_type": "code",
      "source": [
        "# Добавление колонки \"Sentiment\"\n",
        "manual['Sentiment'] = np.zeros(len(manual))\n",
        "\n",
        "# Внесение значений в колонку \"Sentiment\"\n",
        "for i in range(len(manual)):\n",
        "    if manual.at[i, 'Emotion'] in ['гнев', 'грусть', 'отвращение', 'страх']:\n",
        "        manual.at[i, 'Sentiment'] = 'негативный сегмент'\n",
        "    elif manual.at[i, 'Emotion'] == 'нейтраль':\n",
        "        manual.at[i, 'Sentiment'] = 'нейтральное состояние'\n",
        "    else:\n",
        "        manual.at[i, 'Sentiment'] = 'позитивный сегмент'\n",
        "# Проверка колонки \"Sentiment\"\n",
        "print(np.unique(manual['Sentiment']))"
      ],
      "metadata": {
        "colab": {
          "base_uri": "https://localhost:8080/"
        },
        "id": "bqeBLSdjZJaK",
        "outputId": "3f891f54-2558-4c0f-e9ec-06d31cf9e52f"
      },
      "execution_count": null,
      "outputs": [
        {
          "output_type": "stream",
          "name": "stdout",
          "text": [
            "['негативный сегмент' 'нейтральное состояние' 'позитивный сегмент']\n"
          ]
        }
      ]
    },
    {
      "cell_type": "code",
      "source": [
        "# Создание и заполнение колонки \"Emotion digits\"\n",
        "# 'гнев' - 0; 'грусть' - 1; 'нейтраль' - 2; 'отвращение' - 3; 'радость' - 4; 'страх' - 5; 'удивление' - 6\n",
        "\n",
        "emotions = list(np.unique(manual['Emotion']))  # массив с уникальными эмоциями\n",
        "manual['Emotion digits'] = np.zeros(len(manual))\n",
        "for i in range(len(manual)):\n",
        "    manual.at[i, 'Emotion digits'] = emotions.index(manual.at[i, 'Emotion'])"
      ],
      "metadata": {
        "id": "f-OwpuydZeZt"
      },
      "execution_count": null,
      "outputs": []
    },
    {
      "cell_type": "code",
      "source": [
        "# Создание и заполнение колонки \"Sentiment digits\"\n",
        "# 'негативный сегмент' - 0; 'нейтральное состояние' - 1; 'позитивный сегмент' - 2\n",
        "\n",
        "sentiments = list(np.unique(manual['Sentiment']))  # массив с уникальными сентиментами\n",
        "manual['Sentiment digits'] = np.zeros(len(manual))\n",
        "for i in range(len(manual)):\n",
        "    manual.at[i, 'Sentiment digits'] = sentiments.index(manual.at[i, 'Sentiment'])\n"
      ],
      "metadata": {
        "id": "On5ywmZOZ0fE"
      },
      "execution_count": null,
      "outputs": []
    },
    {
      "cell_type": "code",
      "source": [
        "# проверяем итоговую таблицу\n",
        "print(manual.columns)\n",
        "print(manual)"
      ],
      "metadata": {
        "colab": {
          "base_uri": "https://localhost:8080/"
        },
        "id": "ZpJl0pUyZ3yD",
        "outputId": "4b63472b-b05d-405c-9715-819e4054980c"
      },
      "execution_count": null,
      "outputs": [
        {
          "output_type": "stream",
          "name": "stdout",
          "text": [
            "Index(['Transcription', 'Emotion', 'Sentiment', 'Emotion digits',\n",
            "       'Sentiment digits'],\n",
            "      dtype='object')\n",
            "                                         Transcription   Emotion  \\\n",
            "0    Давай ты успокоишься для начала. Ты можешь не ...      гнев   \n",
            "1    Подожди, подожди, успокойся пожалуйста. Подожд...      гнев   \n",
            "2    Кристин, привет. Ты слышала там самолёт упал в...     страх   \n",
            "3    Кристин, привет .. слушай .. Я боюсь лететь, т...     страх   \n",
            "4    Почему? Подожди... Ну подожди, ну как же, но м...    грусть   \n",
            "..                                                 ...       ...   \n",
            "530  Я тут готовила медовик. Чтобы приготовить медо...  нейтраль   \n",
            "531  Значит, правила игры в дурака. Обычного. 36 ка...  нейтраль   \n",
            "532  Так. В Третьяковской галерее продается такая и...  нейтраль   \n",
            "533  я из города Челябинска. Ничего не умел, ничего...  нейтраль   \n",
            "534  Меня зовут Ленога Екатерина, мне 23 года. Я ро...  нейтраль   \n",
            "\n",
            "                 Sentiment  Emotion digits  Sentiment digits  \n",
            "0       негативный сегмент             0.0               0.0  \n",
            "1       негативный сегмент             0.0               0.0  \n",
            "2       негативный сегмент             5.0               0.0  \n",
            "3       негативный сегмент             5.0               0.0  \n",
            "4       негативный сегмент             1.0               0.0  \n",
            "..                     ...             ...               ...  \n",
            "530  нейтральное состояние             2.0               1.0  \n",
            "531  нейтральное состояние             2.0               1.0  \n",
            "532  нейтральное состояние             2.0               1.0  \n",
            "533  нейтральное состояние             2.0               1.0  \n",
            "534  нейтральное состояние             2.0               1.0  \n",
            "\n",
            "[535 rows x 5 columns]\n"
          ]
        }
      ]
    },
    {
      "cell_type": "code",
      "source": [
        "# Сохраняем файл(использовал свой путь для сохранения)\n",
        "manual.to_csv(r\"C:\\Users\\Mi\\Downloads\\Manual_transcription_ready.csv\", index=False)"
      ],
      "metadata": {
        "id": "_i5b4JSGZ5Cs"
      },
      "execution_count": null,
      "outputs": []
    }
  ]
}